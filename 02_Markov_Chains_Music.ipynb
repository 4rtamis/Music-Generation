{
 "cells": [
  {
   "cell_type": "markdown",
   "metadata": {},
   "source": [
    "# Générateur de partition à la Bach"
   ]
  },
  {
   "cell_type": "markdown",
   "metadata": {},
   "source": [
    "## Chaînes de Markov\n",
    "Ici on travaille avec des fichiers midi de trois partitions de Bach :\n",
    "> Prelude et fugue en Ut majeur (BWV 846)\n",
    "\n",
    "> Prelude et fugue en Ut majeur (BWV 870)\n",
    "\n",
    "> Prelude et fugue en Ut mineur (BWV 847)"
   ]
  },
  {
   "cell_type": "markdown",
   "metadata": {},
   "source": [
    "### 1. Lecture des fichiers midi\n",
    "Le but est d'obtenir un array de note (string) facilement manipulable."
   ]
  },
  {
   "cell_type": "code",
   "execution_count": 2,
   "metadata": {},
   "outputs": [],
   "source": [
    "#Librarie pour comprendre midi\n",
    "from music21 import *"
   ]
  },
  {
   "cell_type": "code",
   "execution_count": 55,
   "metadata": {},
   "outputs": [],
   "source": [
    "#Fonction pour lire les fichiers midi\n",
    "def read_midi(file):\n",
    "    \n",
    "    print(\"Chargement du fichier:\",file)\n",
    "    \n",
    "    notes=[]\n",
    "    notes_to_parse = None\n",
    "    \n",
    "    #Analyse du fichier\n",
    "    midi = converter.parse(file)\n",
    "  \n",
    "    #Regroupement si plusieurs instruments (peu utile mais on sait jamais)\n",
    "    s2 = instrument.partitionByInstrument(midi)\n",
    "\n",
    "    #Boucle sur chaque instrument\n",
    "    for part in s2.parts:\n",
    "    \n",
    "        #On ne récupère que le piano\n",
    "        if 'Piano' in str(part): \n",
    "        \n",
    "            notes_to_parse = part.recurse() \n",
    "      \n",
    "            #On détermine si l'élement analysé est un accord ou une note solitaire\n",
    "            for element in notes_to_parse:\n",
    "                \n",
    "                #note\n",
    "                if isinstance(element, note.Note):\n",
    "                    notes.append(str(element.pitch))\n",
    "                \n",
    "                #accord\n",
    "                elif isinstance(element, chord.Chord):\n",
    "                    notes.append('.'.join(str(n) for n in element.normalOrder))\n",
    "\n",
    "    return np.array(notes)"
   ]
  },
  {
   "cell_type": "code",
   "execution_count": 57,
   "metadata": {},
   "outputs": [
    {
     "name": "stdout",
     "output_type": "stream",
     "text": [
      "Chargement du fichier: _res/bach_prelude.mid\n",
      "Chargement du fichier: _res/bach_prelude2.mid\n",
      "Chargement du fichier: _res/back_prelude3_minor.mid\n"
     ]
    }
   ],
   "source": [
    "#Pour récupérer les fichiers\n",
    "import os\n",
    "\n",
    "#Numpy -classique-\n",
    "import numpy as np\n",
    "\n",
    "#On précise le chemin où se trouvent les fichiers .mid\n",
    "path='_res/'\n",
    "\n",
    "#On lit le nom de fichiers\n",
    "files=[i for i in os.listdir(path) if i.endswith(\".mid\")]\n",
    "\n",
    "#On lit chaque fichier\n",
    "notes_array = np.array([read_midi(path+i) for i in files])"
   ]
  },
  {
   "cell_type": "code",
   "execution_count": 59,
   "metadata": {},
   "outputs": [],
   "source": [
    "#Passage d'un array 2D à un array 1D : on met les partitions les unes à la suite des autres\n",
    "notes_ = [element for note_ in notes_array for element in note_]"
   ]
  },
  {
   "cell_type": "markdown",
   "metadata": {},
   "source": [
    "### 2. Mise en place de la chaîne de Markov\n",
    "A partir de l'array *notes_*, on va créer un dictionnaire qui se présente sous la forme suivante :<br>\n",
    "\n",
    "| Clé | Valeur |\n",
    "| :- | :- |\n",
    "| Note_1  | [Liste des notes qui suivent directement Mot_1 dans le texte original] |\n",
    "| Note_2  | [Liste des notes qui suivent directement Mot_2 dans le texte original] "
   ]
  },
  {
   "cell_type": "code",
   "execution_count": 22,
   "metadata": {},
   "outputs": [],
   "source": [
    "from collections import defaultdict\n",
    "\n",
    "def markov_chain(partition):\n",
    "    '''L'entrée est une string et la sortie est un dictionnaire avec chaque note de l'array en clé et \n",
    "    la liste des notes qui suivent cette clé dans l'array en valeur. '''\n",
    "    \n",
    "    # On initialise un dictionnaire 'defaultdict'\n",
    "    m_dict = defaultdict(list)\n",
    "    \n",
    "    # Pour chaque couple de notes qui se suivent on met la première en clé s'elle n'existe pas déjà, et on ajoute la deuxième à la liste de notes en valeur.\n",
    "    for current_note, next_note in zip(partition[0:-1], partition[1:]):\n",
    "        m_dict[current_note].append(next_note) #possible grâce au defaultdict, la clé est créée si elle n'existe pas encore\n",
    "\n",
    "    # On convertit en dictionnaire python\n",
    "    m_dict = dict(m_dict)\n",
    "    return m_dict"
   ]
  },
  {
   "cell_type": "code",
   "execution_count": 51,
   "metadata": {},
   "outputs": [],
   "source": [
    "# Création du dictionnaire pour Bach\n",
    "bach_dict = markov_chain(notes_)"
   ]
  },
  {
   "cell_type": "markdown",
   "metadata": {},
   "source": [
    "### 3. Génération de la partition\n",
    "Création d'une fonction qui va générer la partition. Elle prends deux arguments :\n",
    "* Le dictionnaire tout juste créé\n",
    "* Le nombre de notes que doit contenir la partition\n",
    "\n",
    "On obtient un array de notes que l'on convertit en midi et que l'on sauvegarde dans un dossier."
   ]
  },
  {
   "cell_type": "code",
   "execution_count": 31,
   "metadata": {},
   "outputs": [],
   "source": [
    "import random\n",
    "\n",
    "def generate_sheet(chain, count=120):\n",
    "    '''chain : dictionnaire généré\n",
    "       count : nombre de mots dans la phrase à générer'''\n",
    "    word1 = random.choice(list(chain.keys()))\n",
    "    partition = [word1]\n",
    "\n",
    "    # Génère le second mot d'après la liste de valeur du premier mot. Le nouveau mot devient le \"premier mot\". On répète.\n",
    "    for i in range(count-1):\n",
    "        word2 = random.choice(chain[word1])\n",
    "        word1 = word2\n",
    "        partition.append(word2)\n",
    "\n",
    "    return(partition)"
   ]
  },
  {
   "cell_type": "code",
   "execution_count": 60,
   "metadata": {},
   "outputs": [],
   "source": [
    "def convert_to_midi(prediction_output):\n",
    "   \n",
    "    offset = 0\n",
    "    output_notes = []\n",
    "\n",
    "    # crée les objets notes et accords à partir de ce que le modèle a génèré\n",
    "    for pattern in prediction_output:\n",
    "        \n",
    "        # si pattern est un accord \\ex : '1.6.9'\\\n",
    "        if ('.' in pattern) or pattern.isdigit():\n",
    "            notes_in_chord = pattern.split('.')\n",
    "            notes = []\n",
    "            for current_note in notes_in_chord:\n",
    "                \n",
    "                cn=int(current_note)\n",
    "                new_note = note.Note(cn)\n",
    "                new_note.storedInstrument = instrument.Piano()\n",
    "                notes.append(new_note)\n",
    "                \n",
    "            new_chord = chord.Chord(notes)\n",
    "            new_chord.offset = offset\n",
    "            output_notes.append(new_chord)\n",
    "            \n",
    "        # si pattern est une note \\ex : 'D4'\\\n",
    "        else:\n",
    "            \n",
    "            new_note = note.Note(pattern)\n",
    "            new_note.offset = offset\n",
    "            new_note.storedInstrument = instrument.Piano()\n",
    "            output_notes.append(new_note)\n",
    "\n",
    "        # on change l'offset à chaque iteration pour que les notes se succèdent\n",
    "        offset += 1\n",
    "    midi_stream = stream.Stream(output_notes)\n",
    "    midi_stream.write('midi', fp='music.mid')"
   ]
  },
  {
   "cell_type": "code",
   "execution_count": 53,
   "metadata": {},
   "outputs": [],
   "source": [
    "convert_to_midi(generate_sheet(bach_dict))"
   ]
  },
  {
   "cell_type": "markdown",
   "metadata": {},
   "source": [
    "### 4. Résultats\n",
    "On a fait trois générations différentes.<br>\n",
    "\n",
    "La première utilise le premier prélude seulement en entrée. La partition obtenue est chaotique mais tient la route en terme de cohérence mélodique. Voir *02_Markov_Chains_One_Input.mid*<br>\n",
    "La deuxième prend deux préludes qui sont dans la même tonalité : Ut Majeur. Le nombre d'incohérence augmente mais le résultat reste satisfaisant. Voir *02_Markov_Chains_Two_Input.mid*\n",
    "La deuxième prend trois préludes qui sont dans des tonalités différentes : Ut Majeur et Ut Mineur. Cette fois-ci, le modèle arrive à sa limite avec des incohérences très fréquentes, liées aux différences de mélodies entre les morceaux. Voir *02_Markov_Chains_Three_Input.mid*\n",
    "\n",
    "<br><br>\n",
    "Le modèle de Markov tel que présenté a le problème majeur de ne travailler que sur la logique de la mélodie et pas sur celle de l'harmonie. De plus, le choix de la note suivante ne prend en compte que la précédente."
   ]
  }
 ],
 "metadata": {
  "kernelspec": {
   "display_name": "Python 3",
   "language": "python",
   "name": "python3"
  },
  "language_info": {
   "codemirror_mode": {
    "name": "ipython",
    "version": 3
   },
   "file_extension": ".py",
   "mimetype": "text/x-python",
   "name": "python",
   "nbconvert_exporter": "python",
   "pygments_lexer": "ipython3",
   "version": "3.7.6"
  }
 },
 "nbformat": 4,
 "nbformat_minor": 4
}
